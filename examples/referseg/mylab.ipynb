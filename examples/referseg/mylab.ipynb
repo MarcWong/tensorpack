{
 "cells": [
  {
   "cell_type": "code",
   "execution_count": null,
   "metadata": {},
   "outputs": [
    {
     "name": "stderr",
     "output_type": "stream",
     "text": [
      "/home/hutao/.virtualenvs/tensorpack/local/lib/python2.7/site-packages/h5py/__init__.py:36: FutureWarning: Conversion of the second argument of issubdtype from `float` to `np.floating` is deprecated. In future, it will be treated as `np.float64 == np.dtype(float).type`.\n",
      "  from ._conv import register_converters as _register_converters\n"
     ]
    },
    {
     "name": "stdout",
     "output_type": "stream",
     "text": [
      "WARNING:tensorflow:<tensorflow.python.ops.rnn_cell_impl.BasicLSTMCell object at 0x7f678ddfcf90>: Using a concatenated state is slower and will soon be deprecated.  Use state_is_tuple=True.\n",
      "Collecting variables for regularization:\n",
      "\ttext_objseg/mlp0/DW:0\n",
      "\ttext_objseg/fusion/DW:0\n",
      "\ttext_objseg/c5_lateral/DW:0\n",
      "\ttext_objseg/c4_lateral/DW:0\n",
      "\ttext_objseg/c3_lateral/DW:0\n",
      "\ttext_objseg/score/DW:0\n",
      "Done.\n",
      "Variable learning rate multiplication:\n",
      "\ttext_objseg/mlp0/DW:0: 1.000000\n",
      "\ttext_objseg/mlp0/biases:0: 2.000000\n",
      "\ttext_objseg/embedding:0: 1.000000\n",
      "\ttext_objseg/RNN/multi_rnn_cell/cell_0/basic_lstm_cell/kernel:0: 1.000000\n",
      "\ttext_objseg/RNN/multi_rnn_cell/cell_0/basic_lstm_cell/bias:0: 1.000000\n",
      "\ttext_objseg/fusion/DW:0: 1.000000\n",
      "\ttext_objseg/fusion/biases:0: 2.000000\n",
      "\ttext_objseg/c5_lateral/DW:0: 1.000000\n",
      "\ttext_objseg/c5_lateral/biases:0: 2.000000\n",
      "\ttext_objseg/c4_lateral/DW:0: 1.000000\n",
      "\ttext_objseg/c4_lateral/biases:0: 2.000000\n",
      "\ttext_objseg/c3_lateral/DW:0: 1.000000\n",
      "\ttext_objseg/c3_lateral/biases:0: 2.000000\n",
      "\ttext_objseg/rnn/conv_lstm_cell/kernel:0: 1.000000\n",
      "\ttext_objseg/rnn/conv_lstm_cell/W_ci:0: 1.000000\n",
      "\ttext_objseg/rnn/conv_lstm_cell/W_cf:0: 1.000000\n",
      "\ttext_objseg/rnn/conv_lstm_cell/LayerNorm/beta:0: 1.000000\n",
      "\ttext_objseg/rnn/conv_lstm_cell/LayerNorm/gamma:0: 1.000000\n",
      "\ttext_objseg/rnn/conv_lstm_cell/LayerNorm_1/beta:0: 1.000000\n",
      "\ttext_objseg/rnn/conv_lstm_cell/LayerNorm_1/gamma:0: 1.000000\n",
      "\ttext_objseg/rnn/conv_lstm_cell/LayerNorm_2/beta:0: 1.000000\n",
      "\ttext_objseg/rnn/conv_lstm_cell/LayerNorm_2/gamma:0: 1.000000\n",
      "\ttext_objseg/rnn/conv_lstm_cell/W_co:0: 1.000000\n",
      "\ttext_objseg/rnn/conv_lstm_cell/LayerNorm_3/beta:0: 1.000000\n",
      "\ttext_objseg/rnn/conv_lstm_cell/LayerNorm_3/gamma:0: 1.000000\n",
      "\ttext_objseg/rnn/conv_lstm_cell/LayerNorm_4/beta:0: 1.000000\n",
      "\ttext_objseg/rnn/conv_lstm_cell/LayerNorm_4/gamma:0: 1.000000\n",
      "\ttext_objseg/score/DW:0: 1.000000\n",
      "\ttext_objseg/score/biases:0: 2.000000\n",
      "Done.\n",
      "INFO:tensorflow:Restoring parameters from deeplab_resnet_init.ckpt\n",
      "found 59976 batches under ./referit/trainval_batch/ with prefix \"referit_trainval\"\n",
      "data reader: epoch = 0, batch = 0 / 59976\n",
      "data reader: waiting for file input (IO is slow)...\n",
      "bird on right\n"
     ]
    }
   ],
   "source": [
    "import matplotlib.pyplot as plt\n",
    "%matplotlib inline"
   ]
  },
  {
   "cell_type": "code",
   "execution_count": null,
   "metadata": {},
   "outputs": [],
   "source": [
    "run main_convlstm_p543.py"
   ]
  }
 ],
 "metadata": {
  "kernelspec": {
   "display_name": "Python 2",
   "language": "python",
   "name": "python2"
  },
  "language_info": {
   "codemirror_mode": {
    "name": "ipython",
    "version": 2.0
   },
   "file_extension": ".py",
   "mimetype": "text/x-python",
   "name": "python",
   "nbconvert_exporter": "python",
   "pygments_lexer": "ipython2",
   "version": "2.7.6"
  }
 },
 "nbformat": 4,
 "nbformat_minor": 0
}